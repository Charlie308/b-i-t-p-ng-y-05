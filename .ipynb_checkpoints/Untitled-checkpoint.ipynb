{
 "cells": [
  {
   "cell_type": "code",
   "execution_count": null,
   "id": "7eda74e5",
   "metadata": {},
   "outputs": [],
   "source": [
    "Vẽ mặt cười"
   ]
  },
  {
   "cell_type": "code",
   "execution_count": 2,
   "id": "a26d3f06",
   "metadata": {},
   "outputs": [],
   "source": [
    "import turtle\n",
    "t = turtle.Turtle()\n",
    "t.pensize(2)\n",
    "t.color(\"red\",\"blue\")\n",
    "t.penup()\n",
    "\n",
    "#vẽ khuôn mặt\n",
    "face_size = 200\n",
    "t.goto(0,-200)\n",
    "t.pendown()\n",
    "t.circle(face_size)\n",
    "t.penup()\n",
    "\n",
    "#vẽ mắt\n",
    "t.goto(-100,50)\n",
    "t.pendown()\n",
    "eye_size = 17.5\n",
    "t.fillcolor(\"red\")\n",
    "t.begin_fill()\n",
    "t.circle(eye_size)\n",
    "t.end_fill()\n",
    "t.penup()\n",
    "\n",
    "t.goto(100,50)\n",
    "t.pendown()\n",
    "t.begin_fill()\n",
    "t.circle(eye_size)\n",
    "t.end_fill()\n",
    "t.penup()\n",
    "\n",
    "#vẽ mũi\n",
    "t.goto(0,50)\n",
    "t.pendown()\n",
    "t.fillcolor(\"blue\")\n",
    "t.begin_fill()\n",
    "t.circle(-70,steps=3)\n",
    "t.end_fill()\n",
    "t.penup()\n",
    "\n",
    "# vẽ miệng\n",
    "t.goto(-100,-70)\n",
    "t.pendown()\n",
    "t.rt(90)\n",
    "t.circle(100,180)\n",
    "\n"
   ]
  },
  {
   "cell_type": "code",
   "execution_count": null,
   "id": "daecee5c",
   "metadata": {},
   "outputs": [],
   "source": [
    "Tính diện tích hình tam giác"
   ]
  },
  {
   "cell_type": "code",
   "execution_count": 4,
   "id": "f633d49d",
   "metadata": {},
   "outputs": [
    {
     "name": "stdout",
     "output_type": "stream",
     "text": [
      "Tam giác có chiều dài cạnh a = 23\n",
      "Tam giác có chiều dài cạnh b = 32\n",
      "Tam giác có chiều dài cạnh c = 14\n",
      "Chu vi tam giác =  34.5\n",
      "Diện tích tam giác =  142.6\n"
     ]
    }
   ],
   "source": [
    "import math\n",
    "a = float(input(\"Tam giác có chiều dài cạnh a = \"))\n",
    "b = float(input(\"Tam giác có chiều dài cạnh b = \"))\n",
    "c = float(input(\"Tam giác có chiều dài cạnh c = \"))\n",
    "C = (a + b + c)/ 2\n",
    "S = math.sqrt(C*(C-a)*(C-b)*(C-c))\n",
    "\n",
    "print(\"Chu vi tam giác = \", round(C,2))\n",
    "print(\"Diện tích tam giác = \", round(S,2))\n"
   ]
  },
  {
   "cell_type": "code",
   "execution_count": null,
   "id": "42888d33",
   "metadata": {},
   "outputs": [],
   "source": [
    "Chuyển đổi nhiệt độ"
   ]
  },
  {
   "cell_type": "code",
   "execution_count": 6,
   "id": "81782ba3",
   "metadata": {},
   "outputs": [
    {
     "name": "stdout",
     "output_type": "stream",
     "text": [
      "Nhiệt độ cần chuyển đổi: 77\n",
      "77.0 độ C =  170.6 độ F\n"
     ]
    }
   ],
   "source": [
    "t = float(input(\"Nhiệt độ cần chuyển đổi: \"))\n",
    "f = ((9*t)/5)+32\n",
    "print(t,\"độ C = \",round(f,2),\"độ F\")"
   ]
  },
  {
   "cell_type": "code",
   "execution_count": null,
   "id": "53c1ee5a",
   "metadata": {},
   "outputs": [],
   "source": []
  },
  {
   "cell_type": "code",
   "execution_count": null,
   "id": "b83ed5b2",
   "metadata": {},
   "outputs": [],
   "source": []
  },
  {
   "cell_type": "code",
   "execution_count": null,
   "id": "a2965c4e",
   "metadata": {},
   "outputs": [],
   "source": []
  }
 ],
 "metadata": {
  "kernelspec": {
   "display_name": "Python 3 (ipykernel)",
   "language": "python",
   "name": "python3"
  },
  "language_info": {
   "codemirror_mode": {
    "name": "ipython",
    "version": 3
   },
   "file_extension": ".py",
   "mimetype": "text/x-python",
   "name": "python",
   "nbconvert_exporter": "python",
   "pygments_lexer": "ipython3",
   "version": "3.10.6"
  }
 },
 "nbformat": 4,
 "nbformat_minor": 5
}
